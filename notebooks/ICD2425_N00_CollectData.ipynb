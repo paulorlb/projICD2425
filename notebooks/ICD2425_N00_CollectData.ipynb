{
 "cells": [
  {
   "cell_type": "markdown",
   "metadata": {},
   "source": [
    "# CONFIGURAÇÕES\n",
    "\n",
    "»» Recursos de interesse:\n",
    "\n",
    "- Markdown: https://www.markdownguide.org/\n"
   ]
  },
  {
   "cell_type": "markdown",
   "metadata": {},
   "source": [
    "## Ativar as bibliotecas de interesse"
   ]
  },
  {
   "cell_type": "code",
   "execution_count": 1,
   "metadata": {},
   "outputs": [],
   "source": [
    "import os\n",
    "import sys"
   ]
  },
  {
   "cell_type": "code",
   "execution_count": 2,
   "metadata": {},
   "outputs": [],
   "source": [
    "import requests\n",
    "import json\n",
    "\n",
    "import pickle\n",
    "\n",
    "import math \n",
    "import pandas as pd"
   ]
  },
  {
   "cell_type": "markdown",
   "metadata": {},
   "source": [
    "## Diretorias\n"
   ]
  },
  {
   "cell_type": "code",
   "execution_count": 3,
   "metadata": {},
   "outputs": [
    {
     "data": {
      "text/plain": [
       "'c:\\\\Users\\\\paulo\\\\OneDrive\\\\ONEDRIVE_CLOUD_DISK\\\\TRABALHO_AULAS\\\\AL20242025\\\\1SEM\\\\ICD\\\\projICD2425\\\\notebooks'"
      ]
     },
     "execution_count": 3,
     "metadata": {},
     "output_type": "execute_result"
    }
   ],
   "source": [
    "os.getcwd()"
   ]
  },
  {
   "cell_type": "code",
   "execution_count": 4,
   "metadata": {},
   "outputs": [
    {
     "name": "stdout",
     "output_type": "stream",
     "text": [
      "c:\\Users\\paulo\\OneDrive\\ONEDRIVE_CLOUD_DISK\\TRABALHO_AULAS\\AL20242025\\1SEM\\ICD\\projICD2425\n"
     ]
    }
   ],
   "source": [
    "# When this jupyter notebook is opened, the current working directory is the directory where the notebook is saved.\n",
    "# However, for a better organization of code, we recomend to change the working directory to the root directory of the project.\n",
    "# Here a windows terminal command to change the working directory is executed. \n",
    "# Please, consider to use the right command if you are using another operative system (UNIX).\n",
    "# Note that the root path is located one level on the top of the folders tree. Thus, we use the relative path symbol \"../\" to go up one level.\n",
    "\n",
    "%cd ../"
   ]
  },
  {
   "cell_type": "markdown",
   "metadata": {},
   "source": [
    "# Adicionar os módulos auxiliares\n",
    "\n",
    "A pasta scripts contém um conjunto de módulos (ficheiros) auxiliares que englobam várias ferramentas (funções) de interesse ao longo do projeto."
   ]
  },
  {
   "cell_type": "code",
   "execution_count": 5,
   "metadata": {},
   "outputs": [],
   "source": [
    "# This block of code is used to add the path to the auxiliar modules to the system path.\n",
    "# Only when the path is added to the system path, the modules can be imported in the notebook as with other\n",
    "# libraries such as pandas or numpy.\n",
    "\n",
    "aux_modules_path = os.path.abspath(os.path.join('./scripts'))\n",
    "if aux_modules_path not in sys.path:\n",
    "    sys.path.append(aux_modules_path)"
   ]
  },
  {
   "cell_type": "markdown",
   "metadata": {},
   "source": [
    "### Exemplo de uso dos módulos auxiliares\n"
   ]
  },
  {
   "cell_type": "code",
   "execution_count": 6,
   "metadata": {},
   "outputs": [
    {
     "name": "stdout",
     "output_type": "stream",
     "text": [
      "Hello World!\n"
     ]
    }
   ],
   "source": [
    "from scripts.auxiliar_tools import *\n",
    "\n",
    "print(print_hello_world())"
   ]
  },
  {
   "cell_type": "markdown",
   "metadata": {},
   "source": [
    "## Configuração Chave API"
   ]
  },
  {
   "cell_type": "code",
   "execution_count": null,
   "metadata": {},
   "outputs": [],
   "source": [
    "from decouple import config\n",
    "\n",
    "# https://medium.com/@alensabu12xtz/configure-environment-variables-with-python-decouple-b5f5446381a3\n",
    "\n",
    "MY_SCOPUS_API_KEY = config('MY_SCOPUS_API_KEY')\n",
    "\n",
    "# print('my scopus api key is :', MY_SCOPUS_API_KEY) "
   ]
  },
  {
   "cell_type": "code",
   "execution_count": null,
   "metadata": {},
   "outputs": [],
   "source": [
    "from decouple import Config, RepositoryEnv\n",
    "\n",
    "DOTENV_FILE = '../.env'\n",
    "env_config = Config(RepositoryEnv(DOTENV_FILE))\n",
    "\n",
    "# use the Config().get() method as you normally would since \n",
    "# decouple.config uses that internally. \n",
    "# i.e. config('SECRET_KEY') = env_config.get('SECRET_KEY')\n",
    "MY_SCOPUS_API_KEY = env_config.get('MY_SCOPUS_API_KEY')\n",
    "\n",
    "print('my scopus api key is :', MY_SCOPUS_API_KEY) "
   ]
  },
  {
   "cell_type": "markdown",
   "metadata": {},
   "source": [
    "# RECOLHA DE DADOS - Parte 1\n",
    "Pesquisa e recolha de resultados com a API Scoupus API"
   ]
  },
  {
   "cell_type": "markdown",
   "metadata": {},
   "source": [
    "## Análise exploratória dos resultados de pesquisa"
   ]
  },
  {
   "cell_type": "markdown",
   "metadata": {},
   "source": [
    "### Exploratório: 1. Pesquisa API"
   ]
  },
  {
   "cell_type": "code",
   "execution_count": null,
   "metadata": {},
   "outputs": [],
   "source": [
    "# IMPORTANTE: https://dev.elsevier.com/sc_search_tips.html\n",
    "\n",
    "user_query = \"data mining housing automated valuation model\"\n",
    "\n",
    "response = requests.get(\"https://api.elsevier.com/content/search/scopus\",\n",
    "                    headers={'Accept':'application/json',\n",
    "                             'X-ELS-APIKey': MY_SCOPUS_API_KEY},\n",
    "                         \n",
    "                    params={    'query' : user_query,\n",
    "                                #'start' : \"1\"\n",
    "                        }\n",
    "\n",
    "                        )\n",
    "\n",
    "print(response.url)\n",
    "\n"
   ]
  },
  {
   "cell_type": "markdown",
   "metadata": {},
   "source": [
    "### Exploratório: 2. Analisar resultados / resposta API"
   ]
  },
  {
   "cell_type": "code",
   "execution_count": null,
   "metadata": {},
   "outputs": [],
   "source": [
    "print(response.status_code)"
   ]
  },
  {
   "cell_type": "code",
   "execution_count": null,
   "metadata": {},
   "outputs": [],
   "source": [
    "# A simples invocação da resposta da API (em formato json) imprime o contéudo obtido com a respetiva syntaxe json\n",
    "# No entanto, como facilmente se depreende desta forma é dificil discernir a estrutura hierárquica dos dados e, desta forma, extrair os diferentes dados em cada nível\n",
    "# por forma a transformar os dados numa estrutura de dados mais amigável (por exemplo, um data.frame da livraria \"pandas\", que nos é uma estrutura de dados mais familiar\n",
    "# para manipulação)\n",
    "results = response.json()\n",
    "results\n"
   ]
  },
  {
   "cell_type": "code",
   "execution_count": null,
   "metadata": {},
   "outputs": [],
   "source": [
    "# Podemos assim invocar a função \"jprint\" que definimos inicialmente para obtermos uma visualização mais amigável da estrutura de dados codificada no json\n",
    "# Esta visualização permite-nos ainda identificar a \"localização\" (na hierarquia) dos dados de interesse e, portanto, as respetivas chaves (que nos permitem\n",
    "# aceder a esses mesmos dados)\n",
    "jprint(response.json())"
   ]
  },
  {
   "cell_type": "code",
   "execution_count": null,
   "metadata": {},
   "outputs": [],
   "source": [
    "results[\"search-results\"]['entry'][0][\"affiliation\"]\n"
   ]
  },
  {
   "cell_type": "code",
   "execution_count": null,
   "metadata": {},
   "outputs": [],
   "source": [
    "'affiliation' in results[\"search-results\"]['entry'][0]"
   ]
  },
  {
   "cell_type": "markdown",
   "metadata": {},
   "source": [
    "### Exploratório: 3. Número total de resultados obtidos na pesquisa"
   ]
  },
  {
   "cell_type": "code",
   "execution_count": null,
   "metadata": {},
   "outputs": [],
   "source": [
    "number_of_articles_retrieved = results[\"search-results\"][\"opensearch:totalResults\"]\n",
    "number_of_articles_retrieved"
   ]
  },
  {
   "cell_type": "code",
   "execution_count": null,
   "metadata": {},
   "outputs": [],
   "source": [
    "number_of_articles_perResultPage = results[\"search-results\"][\"opensearch:itemsPerPage\"]\n",
    "number_of_articles_perResultPage"
   ]
  },
  {
   "cell_type": "markdown",
   "metadata": {},
   "source": [
    "### Exploratório: 4. Obter dados de cada um dos resultados de pesquisa e transformar numa estrutura de dados amigável (pandas -» data.frame )"
   ]
  },
  {
   "cell_type": "markdown",
   "metadata": {},
   "source": [
    "#### Opção 1"
   ]
  },
  {
   "cell_type": "code",
   "execution_count": null,
   "metadata": {},
   "outputs": [],
   "source": [
    "df = pd.DataFrame.from_records(results[\"search-results\"]['entry'] )\n",
    "df[:3]"
   ]
  },
  {
   "cell_type": "markdown",
   "metadata": {},
   "source": [
    "#### Opção 2"
   ]
  },
  {
   "cell_type": "code",
   "execution_count": null,
   "metadata": {},
   "outputs": [],
   "source": [
    "df = pd.json_normalize(results[\"search-results\"],['entry'] )\n",
    "df[:3]"
   ]
  },
  {
   "cell_type": "code",
   "execution_count": null,
   "metadata": {},
   "outputs": [],
   "source": [
    "df.columns"
   ]
  },
  {
   "cell_type": "markdown",
   "metadata": {},
   "source": [
    "### Exploratório: 5. Aceder a dados em diferentes níveis hierárquicos"
   ]
  },
  {
   "cell_type": "code",
   "execution_count": null,
   "metadata": {},
   "outputs": [],
   "source": [
    "df_affiliation = pd.json_normalize(results[\"search-results\"],['entry', 'affiliation'] )\n",
    "df_affiliation.columns\n",
    "#df['prism:doi']\n",
    "#df_affiliation\n",
    "\n"
   ]
  },
  {
   "cell_type": "code",
   "execution_count": null,
   "metadata": {},
   "outputs": [],
   "source": [
    "df_affiliation[:5]\n",
    "\n"
   ]
  },
  {
   "cell_type": "markdown",
   "metadata": {},
   "source": [
    "### Exploratório: 5.1 Aceder a dados em diferentes níveis hierárquicos »» POSSÍVEIS DIFICULDADES\n",
    "\n",
    "Por vezes, nos resultados de pesquisa alguns items podem não conter certos elementos / informação codificada em níveis hierárquicos\n",
    "inferiores do json.\n",
    "Por exemplo, a informação sobre a afiliação dos autores pode estar omissa. \n",
    "Nestes casos, ao usar a função \"pd.json_normalize\" para navegar para níveis inferiores pode devolver um erro e inviabilizar o processo automatizado (isto porque a função\n",
    "\"json_normalize\" não permite uma forma expedita de solucionar este problema).\n",
    "\n",
    "Uma estratégia \"naife\" para ultrapassar esta questão passa por  transformar os dados para um data.frame considerando\n",
    "apenas o nível inicial da hierarquia do json (ou seja, utilizar a função json_normalize como fizemos para obter o objeto \"df\" anteriormente).\n",
    "Como verificamos, certos elementos do data.frame \"df\" armazenam dados em formato json / dicionário nas suas células.\n",
    "Ao invés de utilizarmos a função \"json_normalize\" para obtermos dados nos níveis hierárquicos inferiores, podemos desenvolver o nosso próprio algoritmo\n",
    "por forma a solucionarmos os problemas de dados omissos.\n",
    "\n",
    "Assim, uma implementação alternativa do ponto 5, para os dados da coluna \"affiliation\" seria algo como o que se ilustra no código seguinte.\n",
    "\n",
    "NOTA: reparem que se optarem por esta estratégia deverão alterar o código da seccção \"Automatização global\" em conformidade!"
   ]
  },
  {
   "cell_type": "code",
   "execution_count": 34,
   "metadata": {},
   "outputs": [],
   "source": [
    "import numpy as np \n",
    "\n",
    "i=0 #devem utilizar um índice (de linha) para o qual existam dados na coluna \"affiliation\" do vosso data.frame «df»\n",
    "AFF_COL_NAMES = pd.json_normalize(df.affiliation[0]).columns\n",
    "\n",
    "df_affiliation_v2 = pd.DataFrame(columns=AFF_COL_NAMES)\n",
    "\n",
    "for i in range(len(df.affiliation)) :\n",
    "    if  type(df.affiliation.iloc[i]) == list :\n",
    "        df_aux = pd.json_normalize(df.affiliation.iloc[i])\n",
    "        df_affiliation_v2 = pd.concat([df_affiliation_v2, df_aux], ignore_index=True)\n",
    "\n",
    "    else:\n",
    "        emptydf = pd.DataFrame(np.nan, index=[0],columns=AFF_COL_NAMES) \n",
    "        df_affiliation_v2 = pd.concat([df_affiliation_v2,emptydf], ignore_index=True)"
   ]
  },
  {
   "cell_type": "code",
   "execution_count": null,
   "metadata": {},
   "outputs": [],
   "source": [
    "df_affiliation_v2[:5]"
   ]
  },
  {
   "cell_type": "markdown",
   "metadata": {},
   "source": [
    "### Exploratório: 6. Combinar dados de diferentes hierarquias num único \"data.frame\"\n",
    "https://pandas.pydata.org/docs/getting_started/intro_tutorials/08_combine_dataframes.html "
   ]
  },
  {
   "cell_type": "code",
   "execution_count": null,
   "metadata": {},
   "outputs": [],
   "source": [
    "FIELDS = ['dc:title', \"prism:doi\", 'dc:creator', 'citedby-count', 'openaccess']\n",
    "df[FIELDS][:3]"
   ]
  },
  {
   "cell_type": "code",
   "execution_count": null,
   "metadata": {},
   "outputs": [],
   "source": [
    "df_all = pd.merge(df[FIELDS], df_affiliation_v2, how='left', left_index=True, right_index=True)\n",
    "df_all[:3]\n"
   ]
  },
  {
   "cell_type": "markdown",
   "metadata": {},
   "source": [
    "## Automatização global\n",
    "Recolha de resultados individuais da API, seleção de dados de interesse, criação de estrutura de dados amigável"
   ]
  },
  {
   "cell_type": "code",
   "execution_count": null,
   "metadata": {},
   "outputs": [],
   "source": [
    "user_query = \"data mining housing automated valuation model\"\n",
    "LEVEL0_FIELDS_OF_INTEREST = ['dc:title', \"prism:doi\", 'dc:creator']\n",
    "AFFILIATION_FIELDS_OF_INTEREST = ['affilname', 'affiliation-city', 'affiliation-country']\n",
    "\n",
    "df_results_list = pd.DataFrame(columns=LEVEL0_FIELDS_OF_INTEREST+AFFILIATION_FIELDS_OF_INTEREST)\n",
    "\n",
    "cursor = \"*\"\n",
    "\n",
    "for i in range(0,math.ceil(int(number_of_articles_retrieved)/int(number_of_articles_perResultPage))) :\n",
    "#for i in range(0,1) :\n",
    "    \n",
    "    \n",
    "    response = requests.get(\"https://api.elsevier.com/content/search/scopus\",\n",
    "                    headers={'Accept':'application/json',\n",
    "                             'X-ELS-APIKey': MY_SCOPUS_API_KEY},\n",
    "                         \n",
    "                    params={    'query' : user_query,\n",
    "                                'cursor' : cursor\n",
    "                        }\n",
    "\n",
    "                        )\n",
    "    print(i)\n",
    "    print(response.url)\n",
    "    print(response.status_code)\n",
    "\n",
    "    if(response.status_code == 200):\n",
    "        results_aux = response.json()\n",
    "\n",
    "        df_level1_aux = pd.DataFrame.from_records(results_aux[\"search-results\"]['entry'] )\n",
    "        df_level1_aux = df_level1_aux[LEVEL0_FIELDS_OF_INTEREST]\n",
    "                \n",
    "        df_affil_aux = pd.json_normalize(results[\"search-results\"],['entry', 'affiliation'] )\n",
    "        df_affil_aux = df_affil_aux[AFFILIATION_FIELDS_OF_INTEREST]\n",
    "                \n",
    "        df_all_aux = pd.merge(df_level1_aux, df_affil_aux, how='left', left_index=True, right_index=True)\n",
    "        \n",
    "        df_results_list = df_results_list.append(df_all_aux, ignore_index=True)\n",
    "\n",
    "\n",
    "        cursor = results_aux[\"search-results\"][\"cursor\"]['@next']\n",
    "    "
   ]
  },
  {
   "cell_type": "code",
   "execution_count": null,
   "metadata": {},
   "outputs": [],
   "source": [
    "user_query = \"data mining housing automated valuation model\"\n",
    "LEVEL0_FIELDS_OF_INTEREST = ['dc:title', \"prism:doi\", 'dc:creator']\n",
    "AFFILIATION_FIELDS_OF_INTEREST = ['affilname', 'affiliation-city', 'affiliation-country']\n",
    "\n",
    "df_results_list = pd.DataFrame(columns=LEVEL0_FIELDS_OF_INTEREST+AFFILIATION_FIELDS_OF_INTEREST)\n",
    "\n",
    "cursor = \"*\"\n",
    "\n",
    "for i in range(0,math.ceil(int(number_of_articles_retrieved)/int(number_of_articles_perResultPage))) :\n",
    "#for i in range(0,1) :\n",
    "    \n",
    "    \n",
    "    response = requests.get(\"https://api.elsevier.com/content/search/scopus\",\n",
    "                    headers={'Accept':'application/json',\n",
    "                             'X-ELS-APIKey': MY_SCOPUS_API_KEY},\n",
    "                         \n",
    "                    params={    'query' : user_query,\n",
    "                                'cursor' : cursor\n",
    "                        }\n",
    "\n",
    "                        )\n",
    "    print(i)\n",
    "    print(response.url)\n",
    "    print(response.status_code)\n",
    "\n",
    "    if(response.status_code == 200):\n",
    "        results_aux = response.json()\n",
    "\n",
    "        df_level1_aux = pd.DataFrame.from_records(results_aux[\"search-results\"]['entry'] )\n",
    "        df_level1_aux = df_level1_aux[LEVEL0_FIELDS_OF_INTEREST]\n",
    "        \n",
    "        df_affil_aux_out =pd.DataFrame(columns=AFF_COL_NAMES)\n",
    "\n",
    "        for i in range(len(results_aux[\"search-results\"]['entry'])) :\n",
    "\n",
    "            if 'affiliation' in results[\"search-results\"]['entry'][i]:\n",
    "                \n",
    "                df_affil_aux_in = pd.json_normalize(results[\"search-results\"]['entry'][i]['affiliation'])\n",
    "                df_affil_aux_in = df_affil_aux_in[AFFILIATION_FIELDS_OF_INTEREST]\n",
    "                df_affil_aux_out = pd.concat([df_affil_aux_in, df_affil_aux_out], axis=0, ignore_index=True)\n",
    "               \n",
    "\n",
    "            else:\n",
    "\n",
    "                df_affil_aux_in = pd.DataFrame(np.nan, index=[0],columns=AFF_COL_NAMES)\n",
    "                \n",
    "        \n",
    "        df_all_aux = pd.merge(df_level1_aux, df_affil_aux_out, how='left', left_index=True, right_index=True)\n",
    "        df_results_list = pd.concat([df_results_list, df_all_aux], ignore_index=True)\n",
    "        cursor = results_aux[\"search-results\"][\"cursor\"]['@next']\n",
    "        \n",
    "\n",
    "\n",
    "\n",
    "\n",
    "        \n",
    "    "
   ]
  },
  {
   "cell_type": "code",
   "execution_count": null,
   "metadata": {},
   "outputs": [],
   "source": [
    "len(results_aux[\"search-results\"]['entry'])"
   ]
  },
  {
   "cell_type": "code",
   "execution_count": null,
   "metadata": {},
   "outputs": [],
   "source": [
    "results[\"search-results\"]['entry'][20]['affiliation']"
   ]
  },
  {
   "cell_type": "code",
   "execution_count": null,
   "metadata": {},
   "outputs": [],
   "source": [
    "pd.json_normalize(results[\"search-results\"]['entry'][20]['affiliation'])"
   ]
  },
  {
   "cell_type": "code",
   "execution_count": null,
   "metadata": {},
   "outputs": [],
   "source": [
    "\"affiliation\" in results[\"search-results\"]['entry'][20]"
   ]
  },
  {
   "cell_type": "code",
   "execution_count": null,
   "metadata": {},
   "outputs": [],
   "source": [
    "jprint(response.json())"
   ]
  },
  {
   "cell_type": "code",
   "execution_count": null,
   "metadata": {},
   "outputs": [],
   "source": [
    "df_results_list[:200]"
   ]
  },
  {
   "cell_type": "code",
   "execution_count": 122,
   "metadata": {},
   "outputs": [],
   "source": [
    "df_results_list.to_csv('../data/interim/df_results_list_records.csv', index=False)"
   ]
  },
  {
   "cell_type": "markdown",
   "metadata": {},
   "source": [
    "# RECOLHA DE DADOS - Parte 2\n",
    "Recolha do contéudo dos artigos selecionados com a API Scopus\n",
    "\n",
    "NOTA: Como facilmente se verifica na [página](https://dev.elsevier.com/api_docs.html) os artigos completos \n",
    "estão disponíveis no serviço «ScienceDirect APIs», especificamente na API «Article Retrieval» (documentação [aqui](https://dev.elsevier.com/documentation/ArticleRetrievalAPI.wadl) )"
   ]
  },
  {
   "cell_type": "markdown",
   "metadata": {},
   "source": [
    "## Recolha de artigos completos\n",
    "Utilizando o identificador DOI"
   ]
  },
  {
   "cell_type": "markdown",
   "metadata": {},
   "source": [
    "### Análise exploratória"
   ]
  },
  {
   "cell_type": "code",
   "execution_count": null,
   "metadata": {},
   "outputs": [],
   "source": [
    "dois = df_results_list['prism:doi']\n",
    "dois[:3]"
   ]
  },
  {
   "cell_type": "code",
   "execution_count": null,
   "metadata": {},
   "outputs": [],
   "source": [
    "response_article = requests.get(\"https://api.elsevier.com/content/article/doi/\"+dois[2],\n",
    "                    headers={ 'Accept':'application/json',\n",
    "                             'X-ELS-APIKey': MY_API_KEY},\n",
    "                         \n",
    "                    params={   }\n",
    "\n",
    "                        )\n",
    "print(response_article.url)\n",
    "print(response_article.status_code)"
   ]
  },
  {
   "cell_type": "code",
   "execution_count": 114,
   "metadata": {},
   "outputs": [],
   "source": [
    "#jprint(response_article.json())"
   ]
  },
  {
   "cell_type": "code",
   "execution_count": null,
   "metadata": {},
   "outputs": [],
   "source": [
    "type(dois)"
   ]
  },
  {
   "cell_type": "markdown",
   "metadata": {},
   "source": [
    "### Implementação global"
   ]
  },
  {
   "cell_type": "code",
   "execution_count": 117,
   "metadata": {},
   "outputs": [],
   "source": [
    "# - a definir -\n"
   ]
  },
  {
   "cell_type": "markdown",
   "metadata": {},
   "source": [
    "## Recolha de resumos (dos artigos) \n",
    "\n",
    "Recolha do contéudo dos resumos dos artigos selecionados com a API Scopus (usando o identificador DOI guardado anteriormente)\n",
    "\n",
    "NOTA: Como facilmente se verifica na [página](https://dev.elsevier.com/api_docs.html) os resumos podem ser obtidos de duas formas:\n",
    "* Através do serviço «ScienceDirect APIs» e especificamente da API «Article Retrieval» (documentação [aqui](https://dev.elsevier.com/documentation/ArticleRetrievalAPI.wadl) ) descrita anteriormente\n",
    "* Através do serviço «Scopus APIs» (usado anteriormente para fazer a pesquisa) e especificamente da API «Abstract Retrieval» (documentação [aqui](https://dev.elsevier.com/documentation/AbstractRetrievalAPI.wadl))"
   ]
  },
  {
   "cell_type": "markdown",
   "metadata": {},
   "source": [
    "### Análise Exploratória"
   ]
  },
  {
   "cell_type": "code",
   "execution_count": 163,
   "metadata": {},
   "outputs": [],
   "source": [
    "dois = df_results_list['prism:doi']"
   ]
  },
  {
   "cell_type": "code",
   "execution_count": null,
   "metadata": {},
   "outputs": [],
   "source": [
    "response_abst = requests.get(\"https://api.elsevier.com/content/abstract/doi/\"+dois[114],\n",
    "                    headers={#'Accept': 'application/json',\n",
    "                    'Accept': 'application/json',\n",
    "                    'X-ELS-APIKey': MY_API_KEY},\n",
    "                    \n",
    "                    params={   }\n",
    "                )\n",
    "print(response_abst.url)\n",
    "print(response_abst.status_code)   "
   ]
  },
  {
   "cell_type": "code",
   "execution_count": null,
   "metadata": {},
   "outputs": [],
   "source": [
    "results_abstr = response_abst.json()\n",
    "results_abstr"
   ]
  },
  {
   "cell_type": "code",
   "execution_count": null,
   "metadata": {},
   "outputs": [],
   "source": [
    "jprint(response_abst.json())"
   ]
  },
  {
   "cell_type": "code",
   "execution_count": null,
   "metadata": {},
   "outputs": [],
   "source": [
    "resumo = results_abstr[\"abstracts-retrieval-response\"][ \"coredata\"]['dc:description']\n",
    "resumo"
   ]
  },
  {
   "cell_type": "markdown",
   "metadata": {},
   "source": [
    "### Implementação Global"
   ]
  },
  {
   "cell_type": "code",
   "execution_count": null,
   "metadata": {},
   "outputs": [],
   "source": [
    "dois = df_results_list['prism:doi']\n",
    "dois"
   ]
  },
  {
   "cell_type": "code",
   "execution_count": null,
   "metadata": {},
   "outputs": [],
   "source": [
    "abstract_list = []\n",
    "\n",
    "i=0\n",
    "for x in dois :\n",
    "    print(x)\n",
    "    response_abst = requests.get(\"https://api.elsevier.com/content/abstract/doi/\"+str(x),\n",
    "                    headers={\n",
    "                    'Accept': 'application/json',\n",
    "                    'X-ELS-APIKey': MY_API_KEY},\n",
    "                    \n",
    "                    params={   }\n",
    "                )\n",
    "    \n",
    "    print(response_abst.url)\n",
    "    print(response_abst.status_code)\n",
    "    print(i)\n",
    "    i=i+1\n",
    "\n",
    "    if(response_abst.status_code == 200):\n",
    "        results_abst = response_abst.json()\n",
    "        if 'dc:description' in results_abst[\"abstracts-retrieval-response\"][ \"coredata\"]:\n",
    "            abstract_list.append( results_abst[\"abstracts-retrieval-response\"][ \"coredata\"]['dc:description'] )\n",
    "        else:\n",
    "            abstract_list.append(\"NULL\")\n",
    "    else:\n",
    "        abstract_list.append(\"NULL\")\n",
    "\n",
    "\n"
   ]
  },
  {
   "cell_type": "code",
   "execution_count": null,
   "metadata": {},
   "outputs": [],
   "source": [
    "abstract_list[0]"
   ]
  },
  {
   "cell_type": "code",
   "execution_count": null,
   "metadata": {},
   "outputs": [],
   "source": [
    "type(abstract_list[0])"
   ]
  },
  {
   "cell_type": "markdown",
   "metadata": {},
   "source": [
    "# GUARDAR DADOS RECOLHIDOS E PROCESSADOS"
   ]
  },
  {
   "cell_type": "code",
   "execution_count": 201,
   "metadata": {},
   "outputs": [],
   "source": [
    "df_results_list.to_csv('../data/input/'+'search_results.csv',  index=False, encoding = \"utf-8\")\n",
    "\n",
    "pd.DataFrame(abstract_list,  columns =['Abstract']).to_csv('../data/input/'+'search_results_abstracts.csv', index=False, encoding = \"utf-8\")"
   ]
  },
  {
   "cell_type": "code",
   "execution_count": null,
   "metadata": {},
   "outputs": [],
   "source": [
    "# Save the file\n",
    "#pickle.dump( df_results_list, file = open(path_dados+\"ICD2122_TextMining_DataStructures.pickle\", \"wb\"))\n",
    "\n",
    "# Reload the file\n",
    "#test_grouped_df_reloaded = pickle.load(open(path_dados+\"ICD2122_TextMining_DataStructures.pickle\", \"rb\"))"
   ]
  }
 ],
 "metadata": {
  "kernelspec": {
   "display_name": "projICD2425",
   "language": "python",
   "name": "python3"
  },
  "language_info": {
   "codemirror_mode": {
    "name": "ipython",
    "version": 3
   },
   "file_extension": ".py",
   "mimetype": "text/x-python",
   "name": "python",
   "nbconvert_exporter": "python",
   "pygments_lexer": "ipython3",
   "version": "3.13.0"
  }
 },
 "nbformat": 4,
 "nbformat_minor": 4
}
